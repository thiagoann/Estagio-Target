{
  "nbformat": 4,
  "nbformat_minor": 0,
  "metadata": {
    "colab": {
      "provenance": [],
      "authorship_tag": "ABX9TyPKpKv+h0oUYqRt3lQJbHQG",
      "include_colab_link": true
    },
    "kernelspec": {
      "name": "python3",
      "display_name": "Python 3"
    },
    "language_info": {
      "name": "python"
    }
  },
  "cells": [
    {
      "cell_type": "markdown",
      "metadata": {
        "id": "view-in-github",
        "colab_type": "text"
      },
      "source": [
        "<a href=\"https://colab.research.google.com/github/thiagoann/Estagio-Target/blob/main/EstagioTarget.ipynb\" target=\"_parent\"><img src=\"https://colab.research.google.com/assets/colab-badge.svg\" alt=\"Open In Colab\"/></a>"
      ]
    },
    {
      "cell_type": "code",
      "execution_count": 49,
      "metadata": {
        "colab": {
          "base_uri": "https://localhost:8080/"
        },
        "id": "ggtj_ujp2TSx",
        "outputId": "e843e2dc-5195-46bf-ace9-48c98dda4983"
      },
      "outputs": [
        {
          "output_type": "stream",
          "name": "stdout",
          "text": [
            "Digite o numero 8\n",
            "Sequencia de Fibonnacci: [0, 1, 1, 2, 3, 5, 8, 13, 21]\n",
            "O numero 8 pertence a sequencia\n",
            "21\n"
          ]
        }
      ],
      "source": [
        "\n",
        "def fibonnacci(num):\n",
        "\n",
        "  if(num<0):\n",
        "    print('O numero deve ser maior do que 0')\n",
        "  elif(num==0):\n",
        "    return 0\n",
        "\n",
        "  elif(num==1 or num==2):\n",
        "    return 1\n",
        "\n",
        "\n",
        "  return fibonnacci(num-1) + fibonnacci(num-2)\n",
        "\n",
        "def main():\n",
        "\n",
        "  n = int(input(\"Digite o numero \"))\n",
        "  sequencia = []\n",
        "  for i in range(n + 1):\n",
        "        sequencia.append(fibonnacci(i))\n",
        "\n",
        "  print(\"Sequencia de Fibonnacci:\", sequencia)\n",
        "\n",
        "  if n in sequencia:\n",
        "        print(f'O numero {n} pertence a sequencia')\n",
        "  else:\n",
        "        print(f'O numero {n} nao pertence a sequencia')\n",
        "\n",
        "  print(fibonnacci(n))\n",
        "\n",
        "main()"
      ]
    },
    {
      "cell_type": "code",
      "source": [
        "import string\n",
        "minha_str = input('Digite uma string qualquer ')\n",
        "conteA=0\n",
        "for letter in minha_str:\n",
        "  if letter == 'a' or letter == 'A':\n",
        "    conteA = conteA + 1\n",
        "\n",
        "if(conteA > 0):\n",
        "  print(f'A letra a aparece {conteA} vezes')\n",
        "elif(conteA==1):\n",
        "  print(f'A letra A ou a aparece {conteA} vez')\n",
        "else:\n",
        "  print('A letra A ou a nao aparece')"
      ],
      "metadata": {
        "colab": {
          "base_uri": "https://localhost:8080/"
        },
        "id": "YrjhNYfh5CNk",
        "outputId": "6ec8ab87-69e3-41e3-8220-8ee9b6c34a2b"
      },
      "execution_count": 47,
      "outputs": [
        {
          "output_type": "stream",
          "name": "stdout",
          "text": [
            "Digite uma string qualquerA baleia é amiga da sereia\n",
            "A letra A ou a aparece {7} vez/vezes\n"
          ]
        }
      ]
    }
  ]
}